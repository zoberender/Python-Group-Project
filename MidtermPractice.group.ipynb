{
 "cells": [
  {
   "cell_type": "markdown",
   "metadata": {
    "pycharm": {
     "name": "#%% md\n"
    }
   },
   "source": [
    "# MidtermPractice.todo.ipynb\n",
    "\n",
    "## Purpose\n",
    "This notebook should assist students in preparation for the midterm exam.  Please note that this doesn't guarantee **every** item that could appear on the midterm, but is designed primarily as to contain many exercises that can help revisit concepts and build on them.\n",
    "\n",
    "It's recommended that this activity is not the only one you go through.  If a part is light, and you need more practice, then implement that practice in.  But, be mindful to use other variable names.\n",
    "\n",
    "## Working through the notebook\n",
    "Much like the homework, this notebook will be designed in a similar fashion.  Each part relies on output from the previous part unless directly specified otherwise.  Some parts may not have output to be used further in the notebook and are just a \"small exercise\"\n",
    "\n",
    "Please ensure you seed your rnd with **1024** - compare the outputs primarily since there are, often, many ways of doing stuff."
   ]
  },
  {
   "cell_type": "markdown",
   "metadata": {
    "pycharm": {
     "name": "#%% md\n"
    }
   },
   "source": [
    "# Part 1: Scalars, Variables, Operators\n",
    "\n",
    "Create the following variables:\n",
    "\n",
    "| Variable | Value |\n",
    "|----------|-------|\n",
    "|myInt     | 1     |\n",
    "|myString  | \"100\" |\n",
    "|myFloat   | 11.1  |\n",
    "\n",
    "Print these out, using f-strings in the format in the supplied text.\n",
    "\n",
    "Add all the values together into one numerical value (and assign to globalOffset).  Print out the result of this."
   ]
  },
  {
   "cell_type": "code",
   "execution_count": 4,
   "metadata": {
    "collapsed": false,
    "jupyter": {
     "outputs_hidden": false
    },
    "pycharm": {
     "name": "#%%\n"
    }
   },
   "outputs": [
    {
     "name": "stdout",
     "output_type": "stream",
     "text": [
      "The value of myInt is 1\n",
      "The value of myString is 100\n",
      "The value of myFloat is 11.1\n",
      "The value of globalOffset is 112.1\n"
     ]
    }
   ],
   "source": [
    "myInt = 1\n",
    "myString = \"100\"\n",
    "myFloat = 11.1\n",
    "globalOffset = myInt + int(myString) + myFloat\n",
    "print(f\"The value of myInt is {myInt}\")\n",
    "print(f\"The value of myString is {myString}\")\n",
    "print(f\"The value of myFloat is {myFloat}\")\n",
    "print(f\"The value of globalOffset is {globalOffset}\")"
   ]
  },
  {
   "cell_type": "markdown",
   "metadata": {
    "pycharm": {
     "name": "#%% md\n"
    }
   },
   "source": [
    "# Part 2: Advanced Types and flow control\n",
    "\n",
    "1. Import random and seed it to 1024\n",
    "2. Create a new variable, **intList** and create 20 random integer values\n",
    "   - The algorithm of this should be: Take the ceil (see math module) of the random number divided by the globalOffset (defined in part 1).  The random number should be between 100-1000.\n",
    "3. Print out the length of intList, the type of intList, and the contents of intList\n",
    "4. Loop through the intList to create a tuple list.  Essentially, we're grouping the structure by 2's.  Look at the output.  **Assign this to tupleList**\n",
    "5. Print out the length of tupleList, the type of tupleList, and the contents of tupleList"
   ]
  },
  {
   "cell_type": "code",
   "execution_count": 10,
   "metadata": {
    "collapsed": false,
    "jupyter": {
     "outputs_hidden": false
    },
    "pycharm": {
     "name": "#%%\n"
    }
   },
   "outputs": [],
   "source": [
    "import random as rnd\n",
    "import math\n",
    "\n",
    "\n",
    "# Note, there are many ways to write this.  Full for loops, while loops, or even\n",
    "# a better version of what I have below.  I did this version to make it a bit more readable\n",
    "# even if it's not all that optimal."
   ]
  },
  {
   "cell_type": "code",
   "execution_count": 28,
   "metadata": {},
   "outputs": [
    {
     "name": "stdout",
     "output_type": "stream",
     "text": [
      "The type of intList is <class 'list'>\n",
      "Length of intList is 20\n",
      "[9, 2, 6, 9, 5, 4, 9, 9, 9, 6, 2, 5, 6, 5, 9, 8, 9, 8, 5, 5]\n"
     ]
    }
   ],
   "source": [
    "rnd.seed(1024)\n",
    "rndint = lambda: rnd.randint(100,1000)                            #define the range for the rnd integer\n",
    "intList = [math.ceil(rndint()/globalOffset) for i in range(20)]                    #define the list to be of specified length\n",
    "print(f\"The type of intList is {type(intList)}\")\n",
    "print(f\"Length of intList is {len(intList)}\")\n",
    "print(intList)"
   ]
  },
  {
   "cell_type": "code",
   "execution_count": 17,
   "metadata": {},
   "outputs": [],
   "source": [
    "counter = 0\n",
    "\n",
    "tupleList = []\n",
    "while counter < len(intList):\n",
    "    mylist = []\n",
    "    mylist.append(intList[counter])\n",
    "    mylist.append(intList[counter+1])\n",
    "    mytuple = tuple(mylist)\n",
    "    tupleList.append(mytuple)\n",
    "    mylist = []\n",
    "    counter += 2"
   ]
  },
  {
   "cell_type": "code",
   "execution_count": 18,
   "metadata": {
    "collapsed": false,
    "jupyter": {
     "outputs_hidden": false
    },
    "pycharm": {
     "name": "#%%\n"
    }
   },
   "outputs": [
    {
     "name": "stdout",
     "output_type": "stream",
     "text": [
      "Length of tupleList is 10\n",
      "Type of tupleList is <class 'list'>\n"
     ]
    },
    {
     "data": {
      "text/plain": [
       "[(9, 2),\n",
       " (8, 8),\n",
       " (9, 3),\n",
       " (9, 5),\n",
       " (2, 5),\n",
       " (3, 5),\n",
       " (6, 5),\n",
       " (8, 6),\n",
       " (9, 5),\n",
       " (7, 7)]"
      ]
     },
     "execution_count": 18,
     "metadata": {},
     "output_type": "execute_result"
    }
   ],
   "source": [
    "print(f\"Length of tupleList is {len(tupleList)}\")\n",
    "print(f\"Type of tupleList is {type(tupleList)}\")\n",
    "tupleList"
   ]
  },
  {
   "cell_type": "markdown",
   "metadata": {
    "pycharm": {
     "name": "#%% md\n"
    }
   },
   "source": [
    "# Part 3: Functions and Exceptions\n",
    "\n",
    "1.  Create a function called generateIntList.  This function should take an 'offset' argument, that's required, and a 'numToReturn' that is optional (default is 20).  This function should generate a similar structure as we did for IntList before.  So the same logic.\n",
    "2.  Call this function, and assign it to a new variable, intList2.  Compare the lengths.  The values **should be different**.  offset should equal globalOffset\n",
    "3.  Reset the seed back to 1024.  Call this function again (using globalOffset), and assign this to a new variable, intList3.  Compare this to the intList **these should be the same**\n",
    "4.  Call this function again (using globalOffset), and assign this to a new variable, intList4.  The number requested should be equal to 15 (so you should have 15 elements).  Print this out.\n",
    "5.  Create a new function called generateTupleList.  This function should take one argument, that being a list.  This function should generate a similar structure as we saw with tupleList.\n",
    "    - If we have an odd number of elements, the 2nd value in the tuple should be set to -1.\n",
    "    - Check the values from the list, if we have a string in any value of this list, it should raise an ArithmeticError exception.\n",
    "6.  Append the word \"Hello!\" onto intList2 and run generateTupleList.  This should result in triggering the exception.\n",
    "7.  Modify your call to generateTupleList (from #6) to have a try and catch block.  In the catch block, catch the ArithmeticError exception (only), and print out the message."
   ]
  },
  {
   "cell_type": "code",
   "execution_count": 37,
   "metadata": {},
   "outputs": [
    {
     "name": "stdout",
     "output_type": "stream",
     "text": [
      "intList contains [9, 2, 6, 9, 5, 4, 9, 9, 9, 6, 2, 5, 6, 5, 9, 8, 9, 8, 5, 5]\n",
      "intList2 contains [6, 9, 5, 7, 7, 2, 2, 2, 7, 8, 2, 2, 5, 8, 4, 9, 1, 5, 4, 3]\n",
      "intList3 contains [9, 2, 6, 9, 5, 4, 9, 9, 9, 6, 2, 5, 6, 5, 9, 8, 9, 8, 5, 5]\n",
      "intList4 contains [9, 2, 8, 8, 9, 3, 9, 5, 2, 5, 3, 5, 6, 5, 8] and the length is 15\n"
     ]
    }
   ],
   "source": [
    "def generateIntList(offset, numToReturn = 20):\n",
    "    return([math.ceil(rndint()/offset) for i in range(numToReturn)])\n",
    "intList2 = generateIntList(globalOffset)\n",
    "\n",
    "rnd.seed(1024)\n",
    "intList3 = generateIntList(globalOffset)\n",
    "\n",
    "intList4 = generateIntList(globalOffset, 15)\n",
    "\n",
    "print(f\"intList contains {intList}\")\n",
    "print(f\"intList2 contains {intList2}\")\n",
    "print(f\"intList3 contains {intList3}\")\n",
    "print(f\"intList4 contains {intList4} and the length is {len(intList4)}\")"
   ]
  },
  {
   "cell_type": "code",
   "execution_count": 4,
   "metadata": {
    "collapsed": false,
    "jupyter": {
     "outputs_hidden": false
    },
    "pycharm": {
     "name": "#%%\n"
    }
   },
   "outputs": [
    {
     "name": "stdout",
     "output_type": "stream",
     "text": [
      "intList: [9, 2, 6, 9, 5, 4, 9, 9, 9, 6, 2, 5, 6, 5, 9, 8, 9, 8, 5, 5]\n",
      "intList2: [9, 2, 8, 8, 9, 3, 9, 5, 2, 5, 3, 5, 6, 5, 8, 6, 9, 5, 7, 7]\n",
      "intList3: [9, 2, 6, 9, 5, 4, 9, 9, 9, 6, 2, 5, 6, 5, 9, 8, 9, 8, 5, 5]\n"
     ]
    }
   ],
   "source": []
  },
  {
   "cell_type": "code",
   "execution_count": 5,
   "metadata": {
    "collapsed": false,
    "jupyter": {
     "outputs_hidden": false
    },
    "pycharm": {
     "name": "#%%\n"
    }
   },
   "outputs": [
    {
     "name": "stdout",
     "output_type": "stream",
     "text": [
      "intList4: [9, 2, 8, 8, 9, 3, 9, 5, 2, 5, 3, 5, 6, 5, 8], length 15\n"
     ]
    }
   ],
   "source": []
  },
  {
   "cell_type": "code",
   "execution_count": 6,
   "metadata": {
    "collapsed": false,
    "jupyter": {
     "outputs_hidden": false
    },
    "pycharm": {
     "name": "#%%\n"
    }
   },
   "outputs": [],
   "source": []
  },
  {
   "cell_type": "code",
   "execution_count": 7,
   "metadata": {
    "collapsed": false,
    "jupyter": {
     "outputs_hidden": false
    },
    "pycharm": {
     "name": "#%%\n"
    }
   },
   "outputs": [
    {
     "name": "stdout",
     "output_type": "stream",
     "text": [
      "intList2 => [9, 2, 8, 8, 9, 3, 9, 5, 2, 5, 3, 5, 6, 5, 8, 6, 9, 5, 7, 7] \n",
      "   => [(9, 2), (8, 8), (9, 3), (9, 5), (2, 5), (3, 5), (6, 5), (8, 6), (9, 5), (7, 7)]\n",
      "intList4 => [9, 2, 8, 8, 9, 3, 9, 5, 2, 5, 3, 5, 6, 5, 8] \n",
      "   => [(9, 2), (8, 8), (9, 3), (9, 5), (2, 5), (3, 5), (6, 5), (8, -1)]\n"
     ]
    }
   ],
   "source": [
    "tupleList2 = generateTupleList(intList2)\n",
    "print(f\"intList2 => {intList2} \\n   => {tupleList2}\")\n",
    "tupleList4 = generateTupleList(intList4)\n",
    "print(f\"intList4 => {intList4} \\n   => {tupleList4}\")"
   ]
  },
  {
   "cell_type": "code",
   "execution_count": 8,
   "metadata": {
    "collapsed": false,
    "jupyter": {
     "outputs_hidden": false
    },
    "pycharm": {
     "name": "#%%\n"
    }
   },
   "outputs": [
    {
     "name": "stdout",
     "output_type": "stream",
     "text": [
      "intList2 now => [9, 2, 8, 8, 9, 3, 9, 5, 2, 5, 3, 5, 6, 5, 8, 6, 9, 5, 7, 7, 'Hello!']\n",
      "There was an arithmetic error, the message was: The list contents should be a string!\n"
     ]
    }
   ],
   "source": []
  },
  {
   "cell_type": "markdown",
   "metadata": {
    "pycharm": {
     "name": "#%% md\n"
    }
   },
   "source": [
    "# Part 4: NumPy\n",
    "1.  Calling generateIntList, retrieve 100 elements with the globalOffset.  Convert this into a 10x10 matrix.  Assign this to a variable called \"matrix\"\n",
    "2.  Create two new matrix assignments from the matrix variable (matrixA, matrixB).  Each will be of dimensions 10x5, and matrixA will contain the first half of the matrix, while matrixB will contain the second half of the matrix.\n",
    "3.  Add these two matrices (matrixA, matrixB) together and assign to the variable grandMatrix\n",
    "    - This should be of dimensions 10x5\n",
    "\n",
    "I recommend playing with more slicing options here.  We will use the variable grandMatrix in the pandas part, but understanding how slicing works is important."
   ]
  },
  {
   "cell_type": "code",
   "execution_count": 9,
   "metadata": {
    "collapsed": false,
    "jupyter": {
     "outputs_hidden": false
    },
    "pycharm": {
     "name": "#%%\n"
    }
   },
   "outputs": [
    {
     "data": {
      "text/plain": [
       "array([[6, 9, 5, 7, 7, 2, 2, 2, 7, 8],\n",
       "       [2, 2, 5, 8, 4, 9, 1, 5, 4, 3],\n",
       "       [3, 3, 5, 4, 3, 9, 2, 3, 9, 7],\n",
       "       [2, 6, 8, 7, 2, 8, 5, 9, 2, 9],\n",
       "       [2, 9, 4, 8, 9, 3, 4, 5, 6, 9],\n",
       "       [7, 3, 6, 8, 9, 9, 5, 2, 2, 9],\n",
       "       [5, 9, 2, 8, 7, 5, 3, 3, 9, 8],\n",
       "       [2, 3, 7, 9, 7, 4, 4, 9, 5, 6],\n",
       "       [6, 2, 9, 7, 5, 2, 4, 9, 2, 9],\n",
       "       [2, 8, 9, 9, 7, 3, 3, 6, 6, 9]])"
      ]
     },
     "execution_count": 9,
     "metadata": {},
     "output_type": "execute_result"
    }
   ],
   "source": []
  },
  {
   "cell_type": "code",
   "execution_count": 10,
   "metadata": {
    "collapsed": false,
    "jupyter": {
     "outputs_hidden": false
    },
    "pycharm": {
     "name": "#%%\n"
    }
   },
   "outputs": [
    {
     "data": {
      "text/plain": [
       "array([[6, 9, 5, 7, 7],\n",
       "       [2, 2, 5, 8, 4],\n",
       "       [3, 3, 5, 4, 3],\n",
       "       [2, 6, 8, 7, 2],\n",
       "       [2, 9, 4, 8, 9],\n",
       "       [7, 3, 6, 8, 9],\n",
       "       [5, 9, 2, 8, 7],\n",
       "       [2, 3, 7, 9, 7],\n",
       "       [6, 2, 9, 7, 5],\n",
       "       [2, 8, 9, 9, 7]])"
      ]
     },
     "execution_count": 10,
     "metadata": {},
     "output_type": "execute_result"
    }
   ],
   "source": [
    "matrixA"
   ]
  },
  {
   "cell_type": "code",
   "execution_count": 11,
   "metadata": {
    "collapsed": false,
    "jupyter": {
     "outputs_hidden": false
    },
    "pycharm": {
     "name": "#%%\n"
    }
   },
   "outputs": [
    {
     "data": {
      "text/plain": [
       "array([[2, 2, 2, 7, 8],\n",
       "       [9, 1, 5, 4, 3],\n",
       "       [9, 2, 3, 9, 7],\n",
       "       [8, 5, 9, 2, 9],\n",
       "       [3, 4, 5, 6, 9],\n",
       "       [9, 5, 2, 2, 9],\n",
       "       [5, 3, 3, 9, 8],\n",
       "       [4, 4, 9, 5, 6],\n",
       "       [2, 4, 9, 2, 9],\n",
       "       [3, 3, 6, 6, 9]])"
      ]
     },
     "execution_count": 11,
     "metadata": {},
     "output_type": "execute_result"
    }
   ],
   "source": [
    "matrixB"
   ]
  },
  {
   "cell_type": "code",
   "execution_count": 12,
   "metadata": {
    "collapsed": false,
    "jupyter": {
     "outputs_hidden": false
    },
    "pycharm": {
     "name": "#%%\n"
    }
   },
   "outputs": [
    {
     "data": {
      "text/plain": [
       "array([[ 8, 11,  7, 14, 15],\n",
       "       [11,  3, 10, 12,  7],\n",
       "       [12,  5,  8, 13, 10],\n",
       "       [10, 11, 17,  9, 11],\n",
       "       [ 5, 13,  9, 14, 18],\n",
       "       [16,  8,  8, 10, 18],\n",
       "       [10, 12,  5, 17, 15],\n",
       "       [ 6,  7, 16, 14, 13],\n",
       "       [ 8,  6, 18,  9, 14],\n",
       "       [ 5, 11, 15, 15, 16]])"
      ]
     },
     "execution_count": 12,
     "metadata": {},
     "output_type": "execute_result"
    }
   ],
   "source": [
    "grandMatrix"
   ]
  },
  {
   "cell_type": "markdown",
   "metadata": {
    "pycharm": {
     "name": "#%% md\n"
    }
   },
   "source": [
    "# Part 5: Pandas\n",
    "\n",
    "The theme for this part is pretend these are hours worked over a number of weeks.  This could be considered for a specific project, or ones just for a job.  Doesn't matter that much, but should help in understanding what we're doing below.\n",
    "\n",
    "1. Create a list of weekdays: Monday, Tuesday, Wednesday, Thursday, Friday. Assign this to columnHeaders.\n",
    "2. Create a list of days: Week-1, Week-2, ..., Week-10.  Assign this to rowLabels\n",
    "   - Note, this can be done programmatically.  Try to come up with a creative solution vs just creating a static list.\n",
    "3. Print out both the columnHeaders, and rowLabels\n",
    "4. Taking grandMatrix from part 4, create a pandas dataframe with the column headers and row labels we just defined.  Assign this to hoursWorked.  Print out this DataFrame\n",
    "5.  In Week-4, what was the average hours worked per day?\n",
    "6.  On Wednesday, what was the average hours worked across all weeks?\n",
    "7.  Add a new column, called \"Average\". This should be the average hours worked per week.\n",
    "8.  Add a new row, also called \"Average\".  This should be the average hours worked on a given day across the weeks"
   ]
  },
  {
   "cell_type": "code",
   "execution_count": 13,
   "metadata": {
    "collapsed": false,
    "jupyter": {
     "outputs_hidden": false
    },
    "pycharm": {
     "name": "#%%\n"
    }
   },
   "outputs": [
    {
     "name": "stdout",
     "output_type": "stream",
     "text": [
      "columnHeaders: ['Monday', 'Tuesday', 'Wednesday', 'Thursday', 'Friday']\n",
      "rowLabels: ['Week-1', 'Week-2', 'Week-3', 'Week-4', 'Week-5', 'Week-6', 'Week-7', 'Week-8', 'Week-9', 'Week-10']\n"
     ]
    }
   ],
   "source": [
    "import pandas as pd\n",
    "\n",
    "print(f\"columnHeaders: {columnHeaders}\")\n",
    "print(f\"rowLabels: {rowLabels}\")"
   ]
  },
  {
   "cell_type": "code",
   "execution_count": 14,
   "metadata": {
    "collapsed": false,
    "jupyter": {
     "outputs_hidden": false
    },
    "pycharm": {
     "name": "#%%\n"
    }
   },
   "outputs": [
    {
     "data": {
      "text/html": [
       "<div>\n",
       "<style scoped>\n",
       "    .dataframe tbody tr th:only-of-type {\n",
       "        vertical-align: middle;\n",
       "    }\n",
       "\n",
       "    .dataframe tbody tr th {\n",
       "        vertical-align: top;\n",
       "    }\n",
       "\n",
       "    .dataframe thead th {\n",
       "        text-align: right;\n",
       "    }\n",
       "</style>\n",
       "<table border=\"1\" class=\"dataframe\">\n",
       "  <thead>\n",
       "    <tr style=\"text-align: right;\">\n",
       "      <th></th>\n",
       "      <th>Monday</th>\n",
       "      <th>Tuesday</th>\n",
       "      <th>Wednesday</th>\n",
       "      <th>Thursday</th>\n",
       "      <th>Friday</th>\n",
       "    </tr>\n",
       "  </thead>\n",
       "  <tbody>\n",
       "    <tr>\n",
       "      <th>Week-1</th>\n",
       "      <td>8</td>\n",
       "      <td>11</td>\n",
       "      <td>7</td>\n",
       "      <td>14</td>\n",
       "      <td>15</td>\n",
       "    </tr>\n",
       "    <tr>\n",
       "      <th>Week-2</th>\n",
       "      <td>11</td>\n",
       "      <td>3</td>\n",
       "      <td>10</td>\n",
       "      <td>12</td>\n",
       "      <td>7</td>\n",
       "    </tr>\n",
       "    <tr>\n",
       "      <th>Week-3</th>\n",
       "      <td>12</td>\n",
       "      <td>5</td>\n",
       "      <td>8</td>\n",
       "      <td>13</td>\n",
       "      <td>10</td>\n",
       "    </tr>\n",
       "    <tr>\n",
       "      <th>Week-4</th>\n",
       "      <td>10</td>\n",
       "      <td>11</td>\n",
       "      <td>17</td>\n",
       "      <td>9</td>\n",
       "      <td>11</td>\n",
       "    </tr>\n",
       "    <tr>\n",
       "      <th>Week-5</th>\n",
       "      <td>5</td>\n",
       "      <td>13</td>\n",
       "      <td>9</td>\n",
       "      <td>14</td>\n",
       "      <td>18</td>\n",
       "    </tr>\n",
       "    <tr>\n",
       "      <th>Week-6</th>\n",
       "      <td>16</td>\n",
       "      <td>8</td>\n",
       "      <td>8</td>\n",
       "      <td>10</td>\n",
       "      <td>18</td>\n",
       "    </tr>\n",
       "    <tr>\n",
       "      <th>Week-7</th>\n",
       "      <td>10</td>\n",
       "      <td>12</td>\n",
       "      <td>5</td>\n",
       "      <td>17</td>\n",
       "      <td>15</td>\n",
       "    </tr>\n",
       "    <tr>\n",
       "      <th>Week-8</th>\n",
       "      <td>6</td>\n",
       "      <td>7</td>\n",
       "      <td>16</td>\n",
       "      <td>14</td>\n",
       "      <td>13</td>\n",
       "    </tr>\n",
       "    <tr>\n",
       "      <th>Week-9</th>\n",
       "      <td>8</td>\n",
       "      <td>6</td>\n",
       "      <td>18</td>\n",
       "      <td>9</td>\n",
       "      <td>14</td>\n",
       "    </tr>\n",
       "    <tr>\n",
       "      <th>Week-10</th>\n",
       "      <td>5</td>\n",
       "      <td>11</td>\n",
       "      <td>15</td>\n",
       "      <td>15</td>\n",
       "      <td>16</td>\n",
       "    </tr>\n",
       "  </tbody>\n",
       "</table>\n",
       "</div>"
      ],
      "text/plain": [
       "         Monday  Tuesday  Wednesday  Thursday  Friday\n",
       "Week-1        8       11          7        14      15\n",
       "Week-2       11        3         10        12       7\n",
       "Week-3       12        5          8        13      10\n",
       "Week-4       10       11         17         9      11\n",
       "Week-5        5       13          9        14      18\n",
       "Week-6       16        8          8        10      18\n",
       "Week-7       10       12          5        17      15\n",
       "Week-8        6        7         16        14      13\n",
       "Week-9        8        6         18         9      14\n",
       "Week-10       5       11         15        15      16"
      ]
     },
     "execution_count": 14,
     "metadata": {},
     "output_type": "execute_result"
    }
   ],
   "source": [
    "hoursWorked"
   ]
  },
  {
   "cell_type": "code",
   "execution_count": 15,
   "metadata": {
    "collapsed": false,
    "jupyter": {
     "outputs_hidden": false
    },
    "pycharm": {
     "name": "#%%\n"
    }
   },
   "outputs": [
    {
     "data": {
      "text/plain": [
       "11.6"
      ]
     },
     "execution_count": 15,
     "metadata": {},
     "output_type": "execute_result"
    }
   ],
   "source": []
  },
  {
   "cell_type": "code",
   "execution_count": 16,
   "metadata": {
    "collapsed": false,
    "jupyter": {
     "outputs_hidden": false
    },
    "pycharm": {
     "name": "#%%\n"
    }
   },
   "outputs": [
    {
     "data": {
      "text/plain": [
       "11.3"
      ]
     },
     "execution_count": 16,
     "metadata": {},
     "output_type": "execute_result"
    }
   ],
   "source": []
  },
  {
   "cell_type": "code",
   "execution_count": 17,
   "metadata": {
    "collapsed": false,
    "jupyter": {
     "outputs_hidden": false
    },
    "pycharm": {
     "name": "#%%\n"
    }
   },
   "outputs": [
    {
     "name": "stdout",
     "output_type": "stream",
     "text": [
      "Length of hoursWorked is 10\n"
     ]
    },
    {
     "data": {
      "text/plain": [
       "[11.0, 8.6, 9.6, 11.6, 11.8, 12.0, 11.8, 11.2, 11.0, 12.4]"
      ]
     },
     "execution_count": 17,
     "metadata": {},
     "output_type": "execute_result"
    }
   ],
   "source": [
    "averageHours"
   ]
  },
  {
   "cell_type": "code",
   "execution_count": 18,
   "metadata": {
    "collapsed": false,
    "jupyter": {
     "outputs_hidden": false
    },
    "pycharm": {
     "name": "#%%\n"
    }
   },
   "outputs": [
    {
     "data": {
      "text/html": [
       "<div>\n",
       "<style scoped>\n",
       "    .dataframe tbody tr th:only-of-type {\n",
       "        vertical-align: middle;\n",
       "    }\n",
       "\n",
       "    .dataframe tbody tr th {\n",
       "        vertical-align: top;\n",
       "    }\n",
       "\n",
       "    .dataframe thead th {\n",
       "        text-align: right;\n",
       "    }\n",
       "</style>\n",
       "<table border=\"1\" class=\"dataframe\">\n",
       "  <thead>\n",
       "    <tr style=\"text-align: right;\">\n",
       "      <th></th>\n",
       "      <th>Monday</th>\n",
       "      <th>Tuesday</th>\n",
       "      <th>Wednesday</th>\n",
       "      <th>Thursday</th>\n",
       "      <th>Friday</th>\n",
       "      <th>Average</th>\n",
       "    </tr>\n",
       "  </thead>\n",
       "  <tbody>\n",
       "    <tr>\n",
       "      <th>Week-1</th>\n",
       "      <td>8</td>\n",
       "      <td>11</td>\n",
       "      <td>7</td>\n",
       "      <td>14</td>\n",
       "      <td>15</td>\n",
       "      <td>11.0</td>\n",
       "    </tr>\n",
       "    <tr>\n",
       "      <th>Week-2</th>\n",
       "      <td>11</td>\n",
       "      <td>3</td>\n",
       "      <td>10</td>\n",
       "      <td>12</td>\n",
       "      <td>7</td>\n",
       "      <td>8.6</td>\n",
       "    </tr>\n",
       "    <tr>\n",
       "      <th>Week-3</th>\n",
       "      <td>12</td>\n",
       "      <td>5</td>\n",
       "      <td>8</td>\n",
       "      <td>13</td>\n",
       "      <td>10</td>\n",
       "      <td>9.6</td>\n",
       "    </tr>\n",
       "    <tr>\n",
       "      <th>Week-4</th>\n",
       "      <td>10</td>\n",
       "      <td>11</td>\n",
       "      <td>17</td>\n",
       "      <td>9</td>\n",
       "      <td>11</td>\n",
       "      <td>11.6</td>\n",
       "    </tr>\n",
       "    <tr>\n",
       "      <th>Week-5</th>\n",
       "      <td>5</td>\n",
       "      <td>13</td>\n",
       "      <td>9</td>\n",
       "      <td>14</td>\n",
       "      <td>18</td>\n",
       "      <td>11.8</td>\n",
       "    </tr>\n",
       "    <tr>\n",
       "      <th>Week-6</th>\n",
       "      <td>16</td>\n",
       "      <td>8</td>\n",
       "      <td>8</td>\n",
       "      <td>10</td>\n",
       "      <td>18</td>\n",
       "      <td>12.0</td>\n",
       "    </tr>\n",
       "    <tr>\n",
       "      <th>Week-7</th>\n",
       "      <td>10</td>\n",
       "      <td>12</td>\n",
       "      <td>5</td>\n",
       "      <td>17</td>\n",
       "      <td>15</td>\n",
       "      <td>11.8</td>\n",
       "    </tr>\n",
       "    <tr>\n",
       "      <th>Week-8</th>\n",
       "      <td>6</td>\n",
       "      <td>7</td>\n",
       "      <td>16</td>\n",
       "      <td>14</td>\n",
       "      <td>13</td>\n",
       "      <td>11.2</td>\n",
       "    </tr>\n",
       "    <tr>\n",
       "      <th>Week-9</th>\n",
       "      <td>8</td>\n",
       "      <td>6</td>\n",
       "      <td>18</td>\n",
       "      <td>9</td>\n",
       "      <td>14</td>\n",
       "      <td>11.0</td>\n",
       "    </tr>\n",
       "    <tr>\n",
       "      <th>Week-10</th>\n",
       "      <td>5</td>\n",
       "      <td>11</td>\n",
       "      <td>15</td>\n",
       "      <td>15</td>\n",
       "      <td>16</td>\n",
       "      <td>12.4</td>\n",
       "    </tr>\n",
       "  </tbody>\n",
       "</table>\n",
       "</div>"
      ],
      "text/plain": [
       "         Monday  Tuesday  Wednesday  Thursday  Friday  Average\n",
       "Week-1        8       11          7        14      15     11.0\n",
       "Week-2       11        3         10        12       7      8.6\n",
       "Week-3       12        5          8        13      10      9.6\n",
       "Week-4       10       11         17         9      11     11.6\n",
       "Week-5        5       13          9        14      18     11.8\n",
       "Week-6       16        8          8        10      18     12.0\n",
       "Week-7       10       12          5        17      15     11.8\n",
       "Week-8        6        7         16        14      13     11.2\n",
       "Week-9        8        6         18         9      14     11.0\n",
       "Week-10       5       11         15        15      16     12.4"
      ]
     },
     "execution_count": 18,
     "metadata": {},
     "output_type": "execute_result"
    }
   ],
   "source": [
    "hoursWorked"
   ]
  },
  {
   "cell_type": "code",
   "execution_count": 19,
   "metadata": {
    "collapsed": false,
    "jupyter": {
     "outputs_hidden": false
    },
    "pycharm": {
     "name": "#%%\n"
    }
   },
   "outputs": [
    {
     "name": "stdout",
     "output_type": "stream",
     "text": [
      "Length of columns in hoursWorked is 6\n"
     ]
    },
    {
     "data": {
      "text/plain": [
       "Monday        9.1\n",
       "Tuesday       8.7\n",
       "Wednesday    11.3\n",
       "Thursday     12.7\n",
       "Friday       13.7\n",
       "Average      11.1\n",
       "Name: Average, dtype: float64"
      ]
     },
     "execution_count": 19,
     "metadata": {},
     "output_type": "execute_result"
    }
   ],
   "source": [
    "seriesAverageHours"
   ]
  },
  {
   "cell_type": "code",
   "execution_count": 20,
   "metadata": {
    "collapsed": false,
    "jupyter": {
     "outputs_hidden": false
    },
    "pycharm": {
     "name": "#%%\n"
    }
   },
   "outputs": [
    {
     "data": {
      "text/html": [
       "<div>\n",
       "<style scoped>\n",
       "    .dataframe tbody tr th:only-of-type {\n",
       "        vertical-align: middle;\n",
       "    }\n",
       "\n",
       "    .dataframe tbody tr th {\n",
       "        vertical-align: top;\n",
       "    }\n",
       "\n",
       "    .dataframe thead th {\n",
       "        text-align: right;\n",
       "    }\n",
       "</style>\n",
       "<table border=\"1\" class=\"dataframe\">\n",
       "  <thead>\n",
       "    <tr style=\"text-align: right;\">\n",
       "      <th></th>\n",
       "      <th>Monday</th>\n",
       "      <th>Tuesday</th>\n",
       "      <th>Wednesday</th>\n",
       "      <th>Thursday</th>\n",
       "      <th>Friday</th>\n",
       "      <th>Average</th>\n",
       "    </tr>\n",
       "  </thead>\n",
       "  <tbody>\n",
       "    <tr>\n",
       "      <th>Week-1</th>\n",
       "      <td>8.0</td>\n",
       "      <td>11.0</td>\n",
       "      <td>7.0</td>\n",
       "      <td>14.0</td>\n",
       "      <td>15.0</td>\n",
       "      <td>11.0</td>\n",
       "    </tr>\n",
       "    <tr>\n",
       "      <th>Week-2</th>\n",
       "      <td>11.0</td>\n",
       "      <td>3.0</td>\n",
       "      <td>10.0</td>\n",
       "      <td>12.0</td>\n",
       "      <td>7.0</td>\n",
       "      <td>8.6</td>\n",
       "    </tr>\n",
       "    <tr>\n",
       "      <th>Week-3</th>\n",
       "      <td>12.0</td>\n",
       "      <td>5.0</td>\n",
       "      <td>8.0</td>\n",
       "      <td>13.0</td>\n",
       "      <td>10.0</td>\n",
       "      <td>9.6</td>\n",
       "    </tr>\n",
       "    <tr>\n",
       "      <th>Week-4</th>\n",
       "      <td>10.0</td>\n",
       "      <td>11.0</td>\n",
       "      <td>17.0</td>\n",
       "      <td>9.0</td>\n",
       "      <td>11.0</td>\n",
       "      <td>11.6</td>\n",
       "    </tr>\n",
       "    <tr>\n",
       "      <th>Week-5</th>\n",
       "      <td>5.0</td>\n",
       "      <td>13.0</td>\n",
       "      <td>9.0</td>\n",
       "      <td>14.0</td>\n",
       "      <td>18.0</td>\n",
       "      <td>11.8</td>\n",
       "    </tr>\n",
       "    <tr>\n",
       "      <th>Week-6</th>\n",
       "      <td>16.0</td>\n",
       "      <td>8.0</td>\n",
       "      <td>8.0</td>\n",
       "      <td>10.0</td>\n",
       "      <td>18.0</td>\n",
       "      <td>12.0</td>\n",
       "    </tr>\n",
       "    <tr>\n",
       "      <th>Week-7</th>\n",
       "      <td>10.0</td>\n",
       "      <td>12.0</td>\n",
       "      <td>5.0</td>\n",
       "      <td>17.0</td>\n",
       "      <td>15.0</td>\n",
       "      <td>11.8</td>\n",
       "    </tr>\n",
       "    <tr>\n",
       "      <th>Week-8</th>\n",
       "      <td>6.0</td>\n",
       "      <td>7.0</td>\n",
       "      <td>16.0</td>\n",
       "      <td>14.0</td>\n",
       "      <td>13.0</td>\n",
       "      <td>11.2</td>\n",
       "    </tr>\n",
       "    <tr>\n",
       "      <th>Week-9</th>\n",
       "      <td>8.0</td>\n",
       "      <td>6.0</td>\n",
       "      <td>18.0</td>\n",
       "      <td>9.0</td>\n",
       "      <td>14.0</td>\n",
       "      <td>11.0</td>\n",
       "    </tr>\n",
       "    <tr>\n",
       "      <th>Week-10</th>\n",
       "      <td>5.0</td>\n",
       "      <td>11.0</td>\n",
       "      <td>15.0</td>\n",
       "      <td>15.0</td>\n",
       "      <td>16.0</td>\n",
       "      <td>12.4</td>\n",
       "    </tr>\n",
       "    <tr>\n",
       "      <th>Average</th>\n",
       "      <td>9.1</td>\n",
       "      <td>8.7</td>\n",
       "      <td>11.3</td>\n",
       "      <td>12.7</td>\n",
       "      <td>13.7</td>\n",
       "      <td>11.1</td>\n",
       "    </tr>\n",
       "  </tbody>\n",
       "</table>\n",
       "</div>"
      ],
      "text/plain": [
       "         Monday  Tuesday  Wednesday  Thursday  Friday  Average\n",
       "Week-1      8.0     11.0        7.0      14.0    15.0     11.0\n",
       "Week-2     11.0      3.0       10.0      12.0     7.0      8.6\n",
       "Week-3     12.0      5.0        8.0      13.0    10.0      9.6\n",
       "Week-4     10.0     11.0       17.0       9.0    11.0     11.6\n",
       "Week-5      5.0     13.0        9.0      14.0    18.0     11.8\n",
       "Week-6     16.0      8.0        8.0      10.0    18.0     12.0\n",
       "Week-7     10.0     12.0        5.0      17.0    15.0     11.8\n",
       "Week-8      6.0      7.0       16.0      14.0    13.0     11.2\n",
       "Week-9      8.0      6.0       18.0       9.0    14.0     11.0\n",
       "Week-10     5.0     11.0       15.0      15.0    16.0     12.4\n",
       "Average     9.1      8.7       11.3      12.7    13.7     11.1"
      ]
     },
     "execution_count": 20,
     "metadata": {},
     "output_type": "execute_result"
    }
   ],
   "source": []
  },
  {
   "cell_type": "code",
   "execution_count": 20,
   "metadata": {
    "collapsed": false,
    "jupyter": {
     "outputs_hidden": false
    },
    "pycharm": {
     "name": "#%%\n"
    }
   },
   "outputs": [],
   "source": []
  },
  {
   "cell_type": "code",
   "execution_count": 20,
   "metadata": {
    "collapsed": false,
    "jupyter": {
     "outputs_hidden": false
    },
    "pycharm": {
     "name": "#%%\n"
    }
   },
   "outputs": [],
   "source": []
  }
 ],
 "metadata": {
  "kernelspec": {
   "display_name": "Python 3",
   "language": "python",
   "name": "python3"
  },
  "language_info": {
   "codemirror_mode": {
    "name": "ipython",
    "version": 3
   },
   "file_extension": ".py",
   "mimetype": "text/x-python",
   "name": "python",
   "nbconvert_exporter": "python",
   "pygments_lexer": "ipython3",
   "version": "3.7.4"
  }
 },
 "nbformat": 4,
 "nbformat_minor": 4
}

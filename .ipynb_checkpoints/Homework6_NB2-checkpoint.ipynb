{
 "cells": [
  {
   "cell_type": "markdown",
   "metadata": {},
   "source": [
    "<h1><center>MLB Project Data</center></h1>\n",
    "<center>Elias Escobedo <br></center>\n",
    "<center>Shawn McKim <br></center>\n",
    "<center>Zachary Oberender</center>"
   ]
  },
  {
   "cell_type": "markdown",
   "metadata": {},
   "source": [
    "For this project we pulled MLB player performance data going back to 1871. The datasets came from Sean Lahman's baseball database. We are utilizing two files, one with player information and one with player statistics.  We have used a blended approach of utilizing Microsoft Excel to preprocessing some portions of the data, and we are also using Python to calculated fileds in the dataframes that we are creating. We did encounter some \"NAN\" values where data was not captured in our original dataset, which affected our calculated fields.  We were able to clean this up with code."
   ]
  },
  {
   "cell_type": "markdown",
   "metadata": {},
   "source": [
    "From all the charts we generated, we think time series charts capture what we are trying to portray the best. Since we have a lot of data going back many years these charts allow us to see trends. Bar charts will also be beneficial for us to compare sets of data. "
   ]
  },
  {
   "cell_type": "markdown",
   "metadata": {},
   "source": [
    "We used all three libraries to test their capabilities. We liked the Matplotly's flexibility but generating the charts is a bit more coding. Seaborn is good and Plotly has great built-in capabilities. If we were to build a web application, then we would use Plotly because of the added functionality that comes with it out of the box."
   ]
  },
  {
   "cell_type": "markdown",
   "metadata": {},
   "source": [
    "There is an abundance of information in our dataset. However, it has not been a problem since we are able to filter out whatever we do not need. From what we have seen so far, we'll be able to come up with good results. "
   ]
  }
 ],
 "metadata": {
  "kernelspec": {
   "display_name": "Python 3",
   "language": "python",
   "name": "python3"
  },
  "language_info": {
   "codemirror_mode": {
    "name": "ipython",
    "version": 3
   },
   "file_extension": ".py",
   "mimetype": "text/x-python",
   "name": "python",
   "nbconvert_exporter": "python",
   "pygments_lexer": "ipython3",
   "version": "3.8.5"
  }
 },
 "nbformat": 4,
 "nbformat_minor": 4
}

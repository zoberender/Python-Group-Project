{
 "cells": [
  {
   "cell_type": "markdown",
   "metadata": {},
   "source": [
    "# Group 4 Homework 7\n",
    "### Our data set is looking at batting statistics for baseball from the 1800's through current.  "
   ]
  },
  {
   "cell_type": "code",
   "execution_count": 1,
   "metadata": {
    "collapsed": false,
    "jupyter": {
     "outputs_hidden": false
    },
    "pycharm": {
     "name": "#%%\n"
    }
   },
   "outputs": [],
   "source": [
    "#Import the various tools that we will need as we plot our different types of graphs\n",
    "import pandas as pd\n",
    "import numpy as np\n",
    "from seaborn import load_dataset\n",
    "from sklearn.model_selection import train_test_split\n",
    "from sklearn.neighbors import KNeighborsClassifier\n",
    "from sklearn.linear_model import LogisticRegression\n",
    "from sklearn.metrics import confusion_matrix\n",
    "from sklearn.metrics import accuracy_score, recall_score, precision_score, fbeta_score, classification_report"
   ]
  },
  {
   "cell_type": "code",
   "execution_count": 2,
   "metadata": {},
   "outputs": [],
   "source": [
    "# Helper methods\n",
    "def createCategoricalDummies(dataFrame, categoryList):\n",
    "    return pd.get_dummies(dataFrame[categoryList], prefix_sep = \"::\", drop_first = True)\n",
    "\n",
    "def printMetrics(test, predictions):\n",
    "    print(\"Confusion Matrix:\")\n",
    "    print(confusion_matrix(test, predictions))\n",
    "    print(\"------------------\")\n",
    "    print(f\"Accuracy: {accuracy_score(test, predictions):.2f}\")\n",
    "    print(f\"Recall: {recall_score(test, predictions):.2f}\")\n",
    "    print(f\"Prediction: {precision_score(test, predictions):.2f}\")\n",
    "    print(f\"f-measure: {fbeta_score(test, predictions, beta=1):.2f}\")\n",
    "    print(\"------------------\")\n",
    "    print(classification_report(test, predictions))"
   ]
  },
  {
   "cell_type": "markdown",
   "metadata": {},
   "source": [
    "## Import the data from GitHub"
   ]
  },
  {
   "cell_type": "code",
   "execution_count": 3,
   "metadata": {},
   "outputs": [
    {
     "data": {
      "text/html": [
       "<div>\n",
       "<style scoped>\n",
       "    .dataframe tbody tr th:only-of-type {\n",
       "        vertical-align: middle;\n",
       "    }\n",
       "\n",
       "    .dataframe tbody tr th {\n",
       "        vertical-align: top;\n",
       "    }\n",
       "\n",
       "    .dataframe thead th {\n",
       "        text-align: right;\n",
       "    }\n",
       "</style>\n",
       "<table border=\"1\" class=\"dataframe\">\n",
       "  <thead>\n",
       "    <tr style=\"text-align: right;\">\n",
       "      <th></th>\n",
       "      <th>playerID</th>\n",
       "      <th>yearID</th>\n",
       "      <th>Stint</th>\n",
       "      <th>teamID</th>\n",
       "      <th>lgID</th>\n",
       "      <th>G</th>\n",
       "      <th>AB</th>\n",
       "      <th>R</th>\n",
       "      <th>H</th>\n",
       "      <th>2B</th>\n",
       "      <th>...</th>\n",
       "      <th>TEAM NAME</th>\n",
       "      <th>AVG</th>\n",
       "      <th>TB</th>\n",
       "      <th>SLG</th>\n",
       "      <th>PA</th>\n",
       "      <th>OBP</th>\n",
       "      <th>OPS</th>\n",
       "      <th>ISP</th>\n",
       "      <th>1B</th>\n",
       "      <th>ERA</th>\n",
       "    </tr>\n",
       "  </thead>\n",
       "  <tbody>\n",
       "    <tr>\n",
       "      <td>0</td>\n",
       "      <td>abercda01</td>\n",
       "      <td>1871</td>\n",
       "      <td>1</td>\n",
       "      <td>TRO</td>\n",
       "      <td>NaN</td>\n",
       "      <td>1</td>\n",
       "      <td>4</td>\n",
       "      <td>0</td>\n",
       "      <td>0</td>\n",
       "      <td>0</td>\n",
       "      <td>...</td>\n",
       "      <td>TRO-Troy Haymakers</td>\n",
       "      <td>0.000000</td>\n",
       "      <td>0</td>\n",
       "      <td>0.000000</td>\n",
       "      <td>4.0</td>\n",
       "      <td>0.000000</td>\n",
       "      <td>0.000000</td>\n",
       "      <td>0.000000</td>\n",
       "      <td>0</td>\n",
       "      <td>19th Century</td>\n",
       "    </tr>\n",
       "    <tr>\n",
       "      <td>1</td>\n",
       "      <td>addybo01</td>\n",
       "      <td>1871</td>\n",
       "      <td>1</td>\n",
       "      <td>RC1</td>\n",
       "      <td>NaN</td>\n",
       "      <td>25</td>\n",
       "      <td>118</td>\n",
       "      <td>30</td>\n",
       "      <td>32</td>\n",
       "      <td>6</td>\n",
       "      <td>...</td>\n",
       "      <td>ROK-Rockford Forest Citys</td>\n",
       "      <td>0.271186</td>\n",
       "      <td>38</td>\n",
       "      <td>0.322034</td>\n",
       "      <td>122.0</td>\n",
       "      <td>0.295082</td>\n",
       "      <td>0.617116</td>\n",
       "      <td>0.050847</td>\n",
       "      <td>26</td>\n",
       "      <td>19th Century</td>\n",
       "    </tr>\n",
       "    <tr>\n",
       "      <td>2</td>\n",
       "      <td>allisar01</td>\n",
       "      <td>1871</td>\n",
       "      <td>1</td>\n",
       "      <td>CL1</td>\n",
       "      <td>NaN</td>\n",
       "      <td>29</td>\n",
       "      <td>137</td>\n",
       "      <td>28</td>\n",
       "      <td>40</td>\n",
       "      <td>4</td>\n",
       "      <td>...</td>\n",
       "      <td>CFC-Cleveland Forest Citys</td>\n",
       "      <td>0.291971</td>\n",
       "      <td>54</td>\n",
       "      <td>0.394161</td>\n",
       "      <td>139.0</td>\n",
       "      <td>0.302158</td>\n",
       "      <td>0.696319</td>\n",
       "      <td>0.102190</td>\n",
       "      <td>31</td>\n",
       "      <td>19th Century</td>\n",
       "    </tr>\n",
       "    <tr>\n",
       "      <td>3</td>\n",
       "      <td>allisdo01</td>\n",
       "      <td>1871</td>\n",
       "      <td>1</td>\n",
       "      <td>WS3</td>\n",
       "      <td>NaN</td>\n",
       "      <td>27</td>\n",
       "      <td>133</td>\n",
       "      <td>28</td>\n",
       "      <td>44</td>\n",
       "      <td>10</td>\n",
       "      <td>...</td>\n",
       "      <td>OLY-Washington Olympics</td>\n",
       "      <td>0.330827</td>\n",
       "      <td>64</td>\n",
       "      <td>0.481203</td>\n",
       "      <td>133.0</td>\n",
       "      <td>0.330827</td>\n",
       "      <td>0.812030</td>\n",
       "      <td>0.150376</td>\n",
       "      <td>30</td>\n",
       "      <td>19th Century</td>\n",
       "    </tr>\n",
       "    <tr>\n",
       "      <td>4</td>\n",
       "      <td>ansonca01</td>\n",
       "      <td>1871</td>\n",
       "      <td>1</td>\n",
       "      <td>RC1</td>\n",
       "      <td>NaN</td>\n",
       "      <td>25</td>\n",
       "      <td>120</td>\n",
       "      <td>29</td>\n",
       "      <td>39</td>\n",
       "      <td>11</td>\n",
       "      <td>...</td>\n",
       "      <td>ROK-Rockford Forest Citys</td>\n",
       "      <td>0.325000</td>\n",
       "      <td>56</td>\n",
       "      <td>0.466667</td>\n",
       "      <td>122.0</td>\n",
       "      <td>0.336066</td>\n",
       "      <td>0.802732</td>\n",
       "      <td>0.141667</td>\n",
       "      <td>25</td>\n",
       "      <td>19th Century</td>\n",
       "    </tr>\n",
       "    <tr>\n",
       "      <td>...</td>\n",
       "      <td>...</td>\n",
       "      <td>...</td>\n",
       "      <td>...</td>\n",
       "      <td>...</td>\n",
       "      <td>...</td>\n",
       "      <td>...</td>\n",
       "      <td>...</td>\n",
       "      <td>...</td>\n",
       "      <td>...</td>\n",
       "      <td>...</td>\n",
       "      <td>...</td>\n",
       "      <td>...</td>\n",
       "      <td>...</td>\n",
       "      <td>...</td>\n",
       "      <td>...</td>\n",
       "      <td>...</td>\n",
       "      <td>...</td>\n",
       "      <td>...</td>\n",
       "      <td>...</td>\n",
       "      <td>...</td>\n",
       "      <td>...</td>\n",
       "    </tr>\n",
       "    <tr>\n",
       "      <td>107273</td>\n",
       "      <td>zimmejo02</td>\n",
       "      <td>2019</td>\n",
       "      <td>1</td>\n",
       "      <td>DET</td>\n",
       "      <td>AL</td>\n",
       "      <td>23</td>\n",
       "      <td>2</td>\n",
       "      <td>0</td>\n",
       "      <td>0</td>\n",
       "      <td>0</td>\n",
       "      <td>...</td>\n",
       "      <td>DET-Detroit Tigers</td>\n",
       "      <td>0.000000</td>\n",
       "      <td>0</td>\n",
       "      <td>0.000000</td>\n",
       "      <td>2.0</td>\n",
       "      <td>0.000000</td>\n",
       "      <td>0.000000</td>\n",
       "      <td>0.000000</td>\n",
       "      <td>0</td>\n",
       "      <td>Current</td>\n",
       "    </tr>\n",
       "    <tr>\n",
       "      <td>107274</td>\n",
       "      <td>zimmeky01</td>\n",
       "      <td>2019</td>\n",
       "      <td>1</td>\n",
       "      <td>KCA</td>\n",
       "      <td>AL</td>\n",
       "      <td>15</td>\n",
       "      <td>0</td>\n",
       "      <td>0</td>\n",
       "      <td>0</td>\n",
       "      <td>0</td>\n",
       "      <td>...</td>\n",
       "      <td>KCR-Kansas City Royals</td>\n",
       "      <td>NaN</td>\n",
       "      <td>0</td>\n",
       "      <td>NaN</td>\n",
       "      <td>0.0</td>\n",
       "      <td>NaN</td>\n",
       "      <td>NaN</td>\n",
       "      <td>NaN</td>\n",
       "      <td>0</td>\n",
       "      <td>Current</td>\n",
       "    </tr>\n",
       "    <tr>\n",
       "      <td>107275</td>\n",
       "      <td>zimmery01</td>\n",
       "      <td>2019</td>\n",
       "      <td>1</td>\n",
       "      <td>WAS</td>\n",
       "      <td>NL</td>\n",
       "      <td>52</td>\n",
       "      <td>171</td>\n",
       "      <td>20</td>\n",
       "      <td>44</td>\n",
       "      <td>9</td>\n",
       "      <td>...</td>\n",
       "      <td>WAS-Washington Senators</td>\n",
       "      <td>0.257310</td>\n",
       "      <td>71</td>\n",
       "      <td>0.415205</td>\n",
       "      <td>190.0</td>\n",
       "      <td>0.321053</td>\n",
       "      <td>0.736257</td>\n",
       "      <td>0.157895</td>\n",
       "      <td>29</td>\n",
       "      <td>Current</td>\n",
       "    </tr>\n",
       "    <tr>\n",
       "      <td>107276</td>\n",
       "      <td>zobribe01</td>\n",
       "      <td>2019</td>\n",
       "      <td>1</td>\n",
       "      <td>CHN</td>\n",
       "      <td>NL</td>\n",
       "      <td>47</td>\n",
       "      <td>150</td>\n",
       "      <td>24</td>\n",
       "      <td>39</td>\n",
       "      <td>5</td>\n",
       "      <td>...</td>\n",
       "      <td>CHC-Chicago Cubs</td>\n",
       "      <td>0.260000</td>\n",
       "      <td>47</td>\n",
       "      <td>0.313333</td>\n",
       "      <td>176.0</td>\n",
       "      <td>0.357955</td>\n",
       "      <td>0.671288</td>\n",
       "      <td>0.053333</td>\n",
       "      <td>33</td>\n",
       "      <td>Current</td>\n",
       "    </tr>\n",
       "    <tr>\n",
       "      <td>107277</td>\n",
       "      <td>zuninmi01</td>\n",
       "      <td>2019</td>\n",
       "      <td>1</td>\n",
       "      <td>TBA</td>\n",
       "      <td>AL</td>\n",
       "      <td>90</td>\n",
       "      <td>266</td>\n",
       "      <td>30</td>\n",
       "      <td>44</td>\n",
       "      <td>10</td>\n",
       "      <td>...</td>\n",
       "      <td>TBD-Tampa Bay Rays</td>\n",
       "      <td>0.165414</td>\n",
       "      <td>83</td>\n",
       "      <td>0.312030</td>\n",
       "      <td>289.0</td>\n",
       "      <td>0.231834</td>\n",
       "      <td>0.543864</td>\n",
       "      <td>0.146617</td>\n",
       "      <td>24</td>\n",
       "      <td>Current</td>\n",
       "    </tr>\n",
       "  </tbody>\n",
       "</table>\n",
       "<p>107278 rows × 34 columns</p>\n",
       "</div>"
      ],
      "text/plain": [
       "         playerID  yearID  Stint teamID lgID   G   AB   R   H  2B  ...  \\\n",
       "0       abercda01    1871      1    TRO  NaN   1    4   0   0   0  ...   \n",
       "1        addybo01    1871      1    RC1  NaN  25  118  30  32   6  ...   \n",
       "2       allisar01    1871      1    CL1  NaN  29  137  28  40   4  ...   \n",
       "3       allisdo01    1871      1    WS3  NaN  27  133  28  44  10  ...   \n",
       "4       ansonca01    1871      1    RC1  NaN  25  120  29  39  11  ...   \n",
       "...           ...     ...    ...    ...  ...  ..  ...  ..  ..  ..  ...   \n",
       "107273  zimmejo02    2019      1    DET   AL  23    2   0   0   0  ...   \n",
       "107274  zimmeky01    2019      1    KCA   AL  15    0   0   0   0  ...   \n",
       "107275  zimmery01    2019      1    WAS   NL  52  171  20  44   9  ...   \n",
       "107276  zobribe01    2019      1    CHN   NL  47  150  24  39   5  ...   \n",
       "107277  zuninmi01    2019      1    TBA   AL  90  266  30  44  10  ...   \n",
       "\n",
       "                         TEAM NAME       AVG  TB       SLG     PA       OBP  \\\n",
       "0               TRO-Troy Haymakers  0.000000   0  0.000000    4.0  0.000000   \n",
       "1        ROK-Rockford Forest Citys  0.271186  38  0.322034  122.0  0.295082   \n",
       "2       CFC-Cleveland Forest Citys  0.291971  54  0.394161  139.0  0.302158   \n",
       "3          OLY-Washington Olympics  0.330827  64  0.481203  133.0  0.330827   \n",
       "4        ROK-Rockford Forest Citys  0.325000  56  0.466667  122.0  0.336066   \n",
       "...                            ...       ...  ..       ...    ...       ...   \n",
       "107273          DET-Detroit Tigers  0.000000   0  0.000000    2.0  0.000000   \n",
       "107274      KCR-Kansas City Royals       NaN   0       NaN    0.0       NaN   \n",
       "107275     WAS-Washington Senators  0.257310  71  0.415205  190.0  0.321053   \n",
       "107276            CHC-Chicago Cubs  0.260000  47  0.313333  176.0  0.357955   \n",
       "107277          TBD-Tampa Bay Rays  0.165414  83  0.312030  289.0  0.231834   \n",
       "\n",
       "             OPS       ISP  1B           ERA  \n",
       "0       0.000000  0.000000   0  19th Century  \n",
       "1       0.617116  0.050847  26  19th Century  \n",
       "2       0.696319  0.102190  31  19th Century  \n",
       "3       0.812030  0.150376  30  19th Century  \n",
       "4       0.802732  0.141667  25  19th Century  \n",
       "...          ...       ...  ..           ...  \n",
       "107273  0.000000  0.000000   0       Current  \n",
       "107274       NaN       NaN   0       Current  \n",
       "107275  0.736257  0.157895  29       Current  \n",
       "107276  0.671288  0.053333  33       Current  \n",
       "107277  0.543864  0.146617  24       Current  \n",
       "\n",
       "[107278 rows x 34 columns]"
      ]
     },
     "execution_count": 3,
     "metadata": {},
     "output_type": "execute_result"
    }
   ],
   "source": [
    "baseballstats = pd.read_csv(\"https://raw.githubusercontent.com/zoberender/Python-Group-Project/master/Batting.csv\")\n",
    "#It is important to convert NaN to 0 to get calculations to function correctly\n",
    "baseballstats['IBB'] = baseballstats['IBB'].fillna(0)\n",
    "baseballstats['HBP'] = baseballstats['HBP'].fillna(0)\n",
    "baseballstats['SH'] = baseballstats['SH'].fillna(0)\n",
    "baseballstats['SF'] = baseballstats['SF'].fillna(0)\n",
    "# Create new column to calculate average\n",
    "baseballstats[\"AVG\"] = baseballstats[\"H\"]/baseballstats[\"AB\"]\n",
    "# Create new column to calculate total bases\n",
    "baseballstats[\"TB\"] = baseballstats[\"H\"] - baseballstats[\"2B\"] - baseballstats[\"3B\"] - baseballstats[\"HR\"] + 2*baseballstats[\"2B\"] + 3*baseballstats[\"3B\"]+4*baseballstats[\"HR\"]\n",
    "# Slugging is Total Bases/At bats\n",
    "baseballstats[\"SLG\"] = baseballstats[\"TB\"]/baseballstats[\"AB\"]\n",
    "#Plate Appearances to calculate OBP\n",
    "baseballstats[\"PA\"] = baseballstats[\"AB\"] + baseballstats[\"BB\"] + baseballstats[\"HBP\"] + baseballstats[\"SF\"]\n",
    "#On Base Percentage = Times on base/Plat Appearances\n",
    "baseballstats[\"OBP\"] = (baseballstats[\"H\"]+baseballstats[\"BB\"]+baseballstats[\"HBP\"])/baseballstats[\"PA\"]\n",
    "#OBP + SLUGGING IS A GREAT WAY TO MEASURE OVERALL PLAYER VALUE\n",
    "baseballstats[\"OPS\"] = baseballstats[\"OBP\"] + baseballstats[\"SLG\"]\n",
    "#ISOLATED POWER IS A WAY TO MEASURE A PLAYER'S OVERALL POWER WHY TAKING OUT THE IMPACT OF BATTING AVERAGE\n",
    "baseballstats['ISP'] = baseballstats['SLG'] - baseballstats['AVG']\n",
    "#Add 1B as its own column.  1B = HR - (2B + 3B + HR)\n",
    "baseballstats[\"1B\"] = baseballstats[\"H\"] - baseballstats[\"2B\"] - baseballstats[\"3B\"] - baseballstats[\"HR\"]\n",
    "#Add ERA to the data fram using by binning\n",
    "cut_label = ['19th Century','Dead Ball','Live Ball','Integration','Divisional','Steroid','Current']\n",
    "cut_bins = [0,1899,1919,1946,1968,1993,2007,max(baseballstats['yearID'])]\n",
    "baseballstats['ERA'] = pd.cut(baseballstats['yearID'], bins=cut_bins, labels = cut_label)\n",
    "\n",
    "baseballstats"
   ]
  },
  {
   "cell_type": "code",
   "execution_count": 4,
   "metadata": {},
   "outputs": [
    {
     "name": "stdout",
     "output_type": "stream",
     "text": [
      "<class 'pandas.core.frame.DataFrame'>\n",
      "RangeIndex: 107278 entries, 0 to 107277\n",
      "Data columns (total 34 columns):\n",
      "playerID     107278 non-null object\n",
      "yearID       107278 non-null int64\n",
      "Stint        107278 non-null int64\n",
      "teamID       107278 non-null object\n",
      "lgID         106597 non-null object\n",
      "G            107278 non-null int64\n",
      "AB           107278 non-null int64\n",
      "R            107278 non-null int64\n",
      "H            107278 non-null int64\n",
      "2B           107278 non-null int64\n",
      "3B           107278 non-null int64\n",
      "HR           107278 non-null int64\n",
      "RBI          106562 non-null float64\n",
      "SB           104972 non-null float64\n",
      "CS           83831 non-null float64\n",
      "BB           107278 non-null int64\n",
      "SO           105233 non-null float64\n",
      "IBB          107278 non-null float64\n",
      "HBP          107278 non-null float64\n",
      "SH           107278 non-null float64\n",
      "SF           107278 non-null float64\n",
      "GIDP         81931 non-null float64\n",
      "AGE          107278 non-null int64\n",
      "FULL NAME    107278 non-null object\n",
      "TEAM NAME    107278 non-null object\n",
      "AVG          90433 non-null float64\n",
      "TB           107278 non-null int64\n",
      "SLG          90433 non-null float64\n",
      "PA           107278 non-null float64\n",
      "OBP          90656 non-null float64\n",
      "OPS          90433 non-null float64\n",
      "ISP          90433 non-null float64\n",
      "1B           107278 non-null int64\n",
      "ERA          107278 non-null category\n",
      "dtypes: category(1), float64(15), int64(13), object(5)\n",
      "memory usage: 27.1+ MB\n"
     ]
    }
   ],
   "source": [
    "baseballstats.info()"
   ]
  },
  {
   "cell_type": "markdown",
   "metadata": {},
   "source": [
    "# Beginning of Zac's code\n",
    "I left this in here as an idea of what I have been working on.  Trying to predict a \"good\" batting average based on games, at bats and age.  \n",
    "\n",
    "We each need our own notebook for part 1 of the homework, so you can certainly delete all my stuff out.  "
   ]
  },
  {
   "cell_type": "code",
   "execution_count": 5,
   "metadata": {},
   "outputs": [
    {
     "name": "stdout",
     "output_type": "stream",
     "text": [
      "<class 'pandas.core.frame.DataFrame'>\n",
      "RangeIndex: 107278 entries, 0 to 107277\n",
      "Data columns (total 4 columns):\n",
      "G      107278 non-null int64\n",
      "AB     107278 non-null int64\n",
      "AGE    107278 non-null int64\n",
      "AVG    90433 non-null float64\n",
      "dtypes: float64(1), int64(3)\n",
      "memory usage: 3.3 MB\n"
     ]
    }
   ],
   "source": [
    "# prepare the data\n",
    "# get specific columns of interest in order to predict batting average\n",
    "columns = [\"G\",\t\"AB\", \"AGE\", \"AVG\"]   # specify columns of interest\n",
    "playeravg = baseballstats[columns]    # filter data set to specific columns\n",
    "playeravg.info()                      # get column types and check for null values"
   ]
  },
  {
   "cell_type": "code",
   "execution_count": 6,
   "metadata": {},
   "outputs": [
    {
     "name": "stdout",
     "output_type": "stream",
     "text": [
      "<class 'pandas.core.frame.DataFrame'>\n",
      "Int64Index: 90433 entries, 0 to 107277\n",
      "Data columns (total 4 columns):\n",
      "G      90433 non-null int64\n",
      "AB     90433 non-null int64\n",
      "AGE    90433 non-null int64\n",
      "AVG    90433 non-null float64\n",
      "dtypes: float64(1), int64(3)\n",
      "memory usage: 3.4 MB\n"
     ]
    },
    {
     "name": "stderr",
     "output_type": "stream",
     "text": [
      "C:\\Users\\o463858\\AppData\\Local\\Continuum\\anaconda3\\lib\\site-packages\\ipykernel_launcher.py:1: SettingWithCopyWarning: \n",
      "A value is trying to be set on a copy of a slice from a DataFrame\n",
      "\n",
      "See the caveats in the documentation: http://pandas.pydata.org/pandas-docs/stable/user_guide/indexing.html#returning-a-view-versus-a-copy\n",
      "  \"\"\"Entry point for launching an IPython kernel.\n"
     ]
    }
   ],
   "source": [
    "playeravg.dropna(inplace=True) # remove na values\n",
    "playeravg.info()               # get column types and verify null values are removed"
   ]
  },
  {
   "cell_type": "code",
   "execution_count": 7,
   "metadata": {},
   "outputs": [
    {
     "name": "stdout",
     "output_type": "stream",
     "text": [
      "<class 'pandas.core.frame.DataFrame'>\n",
      "Int64Index: 90433 entries, 0 to 107277\n",
      "Data columns (total 4 columns):\n",
      "G         90433 non-null int64\n",
      "AB        90433 non-null int64\n",
      "AGE       90433 non-null int64\n",
      "goodBA    90433 non-null int32\n",
      "dtypes: int32(1), int64(3)\n",
      "memory usage: 3.1 MB\n"
     ]
    },
    {
     "name": "stderr",
     "output_type": "stream",
     "text": [
      "C:\\Users\\o463858\\AppData\\Local\\Continuum\\anaconda3\\lib\\site-packages\\ipykernel_launcher.py:1: SettingWithCopyWarning: \n",
      "A value is trying to be set on a copy of a slice from a DataFrame.\n",
      "Try using .loc[row_indexer,col_indexer] = value instead\n",
      "\n",
      "See the caveats in the documentation: http://pandas.pydata.org/pandas-docs/stable/user_guide/indexing.html#returning-a-view-versus-a-copy\n",
      "  \"\"\"Entry point for launching an IPython kernel.\n"
     ]
    }
   ],
   "source": [
    "playeravg[\"goodBA\"] = np.where(playeravg[\"AVG\"] >= 0.275, 1, 0)  #create categorical column for a good batting average\n",
    "columns2 = [\"G\",\t\"AB\", \"AGE\", \"goodBA\"]                       #remove original AVG column\n",
    "playeravg = playeravg[columns2]\n",
    "playeravg.info()                                                 #verify columns"
   ]
  },
  {
   "cell_type": "code",
   "execution_count": 8,
   "metadata": {},
   "outputs": [],
   "source": [
    "#columns = [\"G\", \"AB\", \"AGE\", \"goodBA\"]\n",
    "#categories = [\"goodBA\"]\n",
    "#playeravg = pd.concat(\n",
    "#    [playeravg.drop(categories, axis=1), createCategoricalDummies(playeravg, categories)], axis = 1)\n",
    "\n",
    "features = list(playeravg.columns)    #create feature list\n",
    "features.remove(\"goodBA\")             #remove target variable from feature list\n",
    "target = \"goodBA\"                     #specify target variable"
   ]
  },
  {
   "cell_type": "code",
   "execution_count": 9,
   "metadata": {},
   "outputs": [],
   "source": [
    "X = playeravg[features]               \n",
    "y = playeravg[target]\n",
    "X_train, X_test, y_train, y_test = train_test_split(X, y, test_size=0.25)"
   ]
  },
  {
   "cell_type": "code",
   "execution_count": 10,
   "metadata": {},
   "outputs": [
    {
     "data": {
      "text/plain": [
       "KNeighborsClassifier(algorithm='auto', leaf_size=30, metric='minkowski',\n",
       "                     metric_params=None, n_jobs=None, n_neighbors=3, p=2,\n",
       "                     weights='uniform')"
      ]
     },
     "execution_count": 10,
     "metadata": {},
     "output_type": "execute_result"
    }
   ],
   "source": [
    "knn = KNeighborsClassifier(n_neighbors=3)\n",
    "knn"
   ]
  },
  {
   "cell_type": "code",
   "execution_count": 11,
   "metadata": {},
   "outputs": [
    {
     "data": {
      "text/plain": [
       "KNeighborsClassifier(algorithm='auto', leaf_size=30, metric='minkowski',\n",
       "                     metric_params=None, n_jobs=None, n_neighbors=3, p=2,\n",
       "                     weights='uniform')"
      ]
     },
     "execution_count": 11,
     "metadata": {},
     "output_type": "execute_result"
    }
   ],
   "source": [
    "knn.fit(X_train, y_train) "
   ]
  },
  {
   "cell_type": "code",
   "execution_count": 12,
   "metadata": {},
   "outputs": [
    {
     "data": {
      "text/plain": [
       "0.8375796178343949"
      ]
     },
     "execution_count": 12,
     "metadata": {},
     "output_type": "execute_result"
    }
   ],
   "source": [
    "knn.score(X_train, y_train)"
   ]
  },
  {
   "cell_type": "code",
   "execution_count": 19,
   "metadata": {
    "collapsed": false,
    "jupyter": {
     "outputs_hidden": false
    },
    "pycharm": {
     "name": "#%%\n"
    }
   },
   "outputs": [
    {
     "name": "stdout",
     "output_type": "stream",
     "text": [
      "Confusion Matrix:\n",
      "[[14814  2268]\n",
      " [ 3743  1784]]\n",
      "------------------\n",
      "Accuracy: 0.73\n",
      "Recall: 0.32\n",
      "Prediction: 0.44\n",
      "f-measure: 0.37\n",
      "------------------\n",
      "              precision    recall  f1-score   support\n",
      "\n",
      "           0       0.80      0.87      0.83     17082\n",
      "           1       0.44      0.32      0.37      5527\n",
      "\n",
      "    accuracy                           0.73     22609\n",
      "   macro avg       0.62      0.60      0.60     22609\n",
      "weighted avg       0.71      0.73      0.72     22609\n",
      "\n"
     ]
    }
   ],
   "source": [
    "predictionsKNN = knn.predict(X_test)\n",
    "printMetrics(y_test, predictionsKNN)"
   ]
  },
  {
   "cell_type": "code",
   "execution_count": 14,
   "metadata": {},
   "outputs": [
    {
     "data": {
      "text/plain": [
       "LogisticRegression(C=1.0, class_weight=None, dual=False, fit_intercept=True,\n",
       "                   intercept_scaling=1, l1_ratio=None, max_iter=100,\n",
       "                   multi_class='warn', n_jobs=None, penalty='l2',\n",
       "                   random_state=None, solver='liblinear', tol=0.0001, verbose=0,\n",
       "                   warm_start=False)"
      ]
     },
     "execution_count": 14,
     "metadata": {},
     "output_type": "execute_result"
    }
   ],
   "source": [
    "lr = LogisticRegression(solver = \"liblinear\")\n",
    "lr"
   ]
  },
  {
   "cell_type": "code",
   "execution_count": 15,
   "metadata": {
    "collapsed": false,
    "jupyter": {
     "outputs_hidden": false
    },
    "pycharm": {
     "name": "#%%\n"
    }
   },
   "outputs": [
    {
     "data": {
      "text/plain": [
       "LogisticRegression(C=1.0, class_weight=None, dual=False, fit_intercept=True,\n",
       "                   intercept_scaling=1, l1_ratio=None, max_iter=100,\n",
       "                   multi_class='warn', n_jobs=None, penalty='l2',\n",
       "                   random_state=None, solver='liblinear', tol=0.0001, verbose=0,\n",
       "                   warm_start=False)"
      ]
     },
     "execution_count": 15,
     "metadata": {},
     "output_type": "execute_result"
    }
   ],
   "source": [
    "lr.fit(X_train, y_train)"
   ]
  },
  {
   "cell_type": "code",
   "execution_count": 16,
   "metadata": {
    "collapsed": false,
    "jupyter": {
     "outputs_hidden": false
    },
    "pycharm": {
     "name": "#%%\n"
    }
   },
   "outputs": [
    {
     "data": {
      "text/plain": [
       "0.7850613352205709"
      ]
     },
     "execution_count": 16,
     "metadata": {},
     "output_type": "execute_result"
    }
   ],
   "source": [
    "lr.score(X_train, y_train)"
   ]
  },
  {
   "cell_type": "code",
   "execution_count": 17,
   "metadata": {
    "collapsed": false,
    "jupyter": {
     "outputs_hidden": false
    },
    "pycharm": {
     "name": "#%%\n"
    }
   },
   "outputs": [
    {
     "data": {
      "text/plain": [
       "0.7830067672165951"
      ]
     },
     "execution_count": 17,
     "metadata": {},
     "output_type": "execute_result"
    }
   ],
   "source": [
    "lr.score(X_test, y_test)"
   ]
  },
  {
   "cell_type": "code",
   "execution_count": 20,
   "metadata": {
    "collapsed": false,
    "jupyter": {
     "outputs_hidden": false
    },
    "pycharm": {
     "name": "#%%\n"
    }
   },
   "outputs": [
    {
     "name": "stdout",
     "output_type": "stream",
     "text": [
      "Confusion Matrix:\n",
      "[[16208   874]\n",
      " [ 4032  1495]]\n",
      "------------------\n",
      "Accuracy: 0.78\n",
      "Recall: 0.27\n",
      "Prediction: 0.63\n",
      "f-measure: 0.38\n",
      "------------------\n",
      "              precision    recall  f1-score   support\n",
      "\n",
      "           0       0.80      0.95      0.87     17082\n",
      "           1       0.63      0.27      0.38      5527\n",
      "\n",
      "    accuracy                           0.78     22609\n",
      "   macro avg       0.72      0.61      0.62     22609\n",
      "weighted avg       0.76      0.78      0.75     22609\n",
      "\n"
     ]
    }
   ],
   "source": [
    "predictionsLR = lr.predict(X_test)\n",
    "printMetrics(y_test, predictionsLR)"
   ]
  },
  {
   "cell_type": "code",
   "execution_count": null,
   "metadata": {},
   "outputs": [],
   "source": []
  }
 ],
 "metadata": {
  "kernelspec": {
   "display_name": "Python 3",
   "language": "python",
   "name": "python3"
  },
  "language_info": {
   "codemirror_mode": {
    "name": "ipython",
    "version": 3
   },
   "file_extension": ".py",
   "mimetype": "text/x-python",
   "name": "python",
   "nbconvert_exporter": "python",
   "pygments_lexer": "ipython3",
   "version": "3.7.4"
  }
 },
 "nbformat": 4,
 "nbformat_minor": 4
}

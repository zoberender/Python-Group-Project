{
 "cells": [
  {
   "cell_type": "markdown",
   "metadata": {},
   "source": [
    "<h1><center>MLB Project Data</center></h1>\n",
    "<center>Elias Escobedo <br></center>\n",
    "<center>Shawn McKim <br></center>\n",
    "<center>Zachary Oberender</center>"
   ]
  },
  {
   "cell_type": "markdown",
   "metadata": {},
   "source": [
    "## Hall of Fame Career"
   ]
  },
  {
   "cell_type": "markdown",
   "metadata": {},
   "source": [
    "In our analysis we wanted to analyze the careers of players who have been inducted into the Baseball Hall of Fame. We used the Batting dataset and matched it with the Hall of Fame dataset. We trained two algorithms the K-nearest neighbor and logistic regression. We did both to determine if one was better than the other. We split our data 75/25 and got an accuracy of .94 for both.  "
   ]
  },
  {
   "cell_type": "markdown",
   "metadata": {},
   "source": [
    "Once we had trained both models we wanted to use them. We picked a retired player who is not yet elegible for the Baseball Hall of Fame. We ended up going with Alex Rodriguez. The results were interesting. The logistic regression algorithm thought Arod wouldn't be in the Hall of Fame while the KNN algorithm predicted he would be inducted."
   ]
  }
 ],
 "metadata": {
  "kernelspec": {
   "display_name": "Python 3",
   "language": "python",
   "name": "python3"
  },
  "language_info": {
   "codemirror_mode": {
    "name": "ipython",
    "version": 3
   },
   "file_extension": ".py",
   "mimetype": "text/x-python",
   "name": "python",
   "nbconvert_exporter": "python",
   "pygments_lexer": "ipython3",
   "version": "3.8.5"
  }
 },
 "nbformat": 4,
 "nbformat_minor": 4
}
